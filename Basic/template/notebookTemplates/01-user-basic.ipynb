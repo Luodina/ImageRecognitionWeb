{
 "cells": [
  {
   "cell_type": "code",
   "execution_count": null,
   "metadata": {
    "collapsed": true
   },
   "outputs": [],
   "source": [
    "input_file_1 = \"./data/raw/阑尾炎数据/住院病案首页.csv\"\n",
    "input_file_2 = \"./data/raw/阑尾炎数据/出院小结.csv\"\n",
    "output_path = \"./data/interim/user_basic.csv\""
   ]
  },
  {
   "cell_type": "code",
   "execution_count": null,
   "metadata": {
    "collapsed": true
   },
   "outputs": [],
   "source": [
    "# -*- coding:utf8 -*-\n",
    "import codecs\n",
    "import pandas as pd\n",
    "import numpy as np\n",
    "import matplotlib.pyplot as plt\n",
    "from src.data_process_exam import *\n",
    "from src.fig_font_plot import *\n",
    "from src.data_process_treatment import * \n",
    "\n",
    "def read_csv(filename,engine='python',encoding='utf8', index_cols=None):\n",
    "    return pd.read_csv(filename,engine=engine,encoding=encoding, index_col=index_cols)"
   ]
  },
  {
   "cell_type": "markdown",
   "metadata": {},
   "source": [
    "## 合并用户基础信息\n",
    "结合住院首页以及出院案例\n",
    "- '病案号'\n",
    "- '性别'\n",
    "- '出生日期'\n",
    "- '医保农合号'\n",
    "- '医疗付费方式'\n",
    "- '职业'\n",
    "- '入院日期'\n",
    "- '入院科别代码'\n",
    "- '入院病房'\n",
    "- '实际住院天数'\n",
    "- '住院费用总计(元)'\n",
    "- '住院费用结算方式代码'\n",
    "- '自付金额'"
   ]
  },
  {
   "cell_type": "code",
   "execution_count": null,
   "metadata": {
    "collapsed": true
   },
   "outputs": [],
   "source": [
    "df_basy=read_csv(\"./data/raw/阑尾炎数据/住院病案首页.csv\", encoding='utf8', index_cols=['第三方系统主键值', '住院唯一标示'])\n",
    "\n",
    "df_cyxj=read_csv(\"./data/raw/阑尾炎数据/出院小结.csv\", encoding='utf8', index_cols=['上报机构', '住院唯一标识'])\n",
    "df_cyxj.index.names = ['第三方系统主键值', '住院唯一标示']\n",
    "\n",
    "joined = df_basy.join(df_cyxj, lsuffix='首页')[['病案号', '性别', '出生日期', '医保农合号', '医疗付费方式','职业', '入院日期', '入院科别代码', '入院病房', '实际住院天数', '住院费用总计(元)',\n",
    " '住院费用结算方式代码',\n",
    " '自付金额']]\n",
    "joined.head(5)"
   ]
  },
  {
   "cell_type": "code",
   "execution_count": null,
   "metadata": {
    "collapsed": true
   },
   "outputs": [],
   "source": [
    "joined.to_csv(output_path, encoding='utf8')"
   ]
  },
  {
   "cell_type": "code",
   "execution_count": null,
   "metadata": {
    "collapsed": true
   },
   "outputs": [],
   "source": []
  },
  {
   "cell_type": "code",
   "execution_count": null,
   "metadata": {
    "collapsed": true
   },
   "outputs": [],
   "source": []
  },
  {
   "cell_type": "code",
   "execution_count": null,
   "metadata": {
    "collapsed": true
   },
   "outputs": [],
   "source": []
  }
 ],
 "metadata": {
  "kernelspec": {
   "display_name": "Python 3",
   "language": "python",
   "name": "python3"
  },
  "language_info": {
   "codemirror_mode": {
    "name": "ipython",
    "version": 3
   },
   "file_extension": ".py",
   "mimetype": "text/x-python",
   "name": "python",
   "nbconvert_exporter": "python",
   "pygments_lexer": "ipython3",
   "version": "3.6.0"
  }
 },
 "nbformat": 4,
 "nbformat_minor": 2
}
