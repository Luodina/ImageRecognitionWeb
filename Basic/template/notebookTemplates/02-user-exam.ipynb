{
 "cells": [
  {
   "cell_type": "code",
   "execution_count": 1,
   "metadata": {
    "collapsed": true
   },
   "outputs": [],
   "source": [
    "input_file_1 = \"./data/raw/阑尾炎数据/检查明细记录.csv\"\n",
    "input_file_2 = \"./data/raw/阑尾炎数据/出院小结.csv\"\n",
    "output_path = \"./data/interim/user_exam.csv\""
   ]
  },
  {
   "cell_type": "code",
   "execution_count": 2,
   "metadata": {
    "collapsed": true
   },
   "outputs": [],
   "source": [
    "# -*- coding:utf8 -*-\n",
    "import codecs\n",
    "import pandas as pd\n",
    "import numpy as np\n",
    "import matplotlib.pyplot as plt\n",
    "from src.data_process_exam import *\n",
    "from src.fig_font_plot import *\n",
    "from src.data_process_treatment import * \n",
    "\n",
    "def read_csv(filename,engine='python',encoding='utf8', index_cols=None):\n",
    "    return pd.read_csv(filename,engine=engine,encoding=encoding, index_col=index_cols)"
   ]
  },
  {
   "cell_type": "markdown",
   "metadata": {},
   "source": [
    "## 处理用户检查明细"
   ]
  },
  {
   "cell_type": "markdown",
   "metadata": {},
   "source": [
    "## 可疑数据\n",
    "用户具有多个同类型的检查"
   ]
  },
  {
   "cell_type": "code",
   "execution_count": 3,
   "metadata": {
    "collapsed": true
   },
   "outputs": [],
   "source": [
    "df_jcmx=read_csv(input_file_1, encoding='utf8')\n"
   ]
  },
  {
   "cell_type": "code",
   "execution_count": 11,
   "metadata": {
    "collapsed": true
   },
   "outputs": [],
   "source": [
    "exam_count = df_jcmx.groupby(['机构全代码', '住院唯一标识', '检查/检验-项目名称' ,'排序号']).count()"
   ]
  },
  {
   "cell_type": "code",
   "execution_count": 12,
   "metadata": {
    "scrolled": false
   },
   "outputs": [
    {
     "data": {
      "text/html": [
       "<div>\n",
       "<table border=\"1\" class=\"dataframe\">\n",
       "  <thead>\n",
       "    <tr style=\"text-align: right;\">\n",
       "      <th></th>\n",
       "      <th>机构全代码</th>\n",
       "      <th>住院唯一标识</th>\n",
       "      <th>检查/检验-项目名称</th>\n",
       "      <th>排序号</th>\n",
       "      <th>Unnamed: 0</th>\n",
       "      <th>序号</th>\n",
       "      <th>实验室检查主记录id</th>\n",
       "      <th>标本编号</th>\n",
       "      <th>检查/检验-项目代码</th>\n",
       "      <th>检查/检验-结果代码</th>\n",
       "      <th>检查/检验-结果(定性)</th>\n",
       "      <th>检查/检验-结果(数值)</th>\n",
       "      <th>检查/检验-计量单位</th>\n",
       "      <th>参考上限</th>\n",
       "      <th>参考下限</th>\n",
       "      <th>参考范围</th>\n",
       "      <th>提示</th>\n",
       "      <th>创建时间</th>\n",
       "      <th>修改时间</th>\n",
       "    </tr>\n",
       "  </thead>\n",
       "  <tbody>\n",
       "  </tbody>\n",
       "</table>\n",
       "</div>"
      ],
      "text/plain": [
       "Empty DataFrame\n",
       "Columns: [机构全代码, 住院唯一标识, 检查/检验-项目名称, 排序号, Unnamed: 0, 序号, 实验室检查主记录id, 标本编号, 检查/检验-项目代码, 检查/检验-结果代码, 检查/检验-结果(定性), 检查/检验-结果(数值), 检查/检验-计量单位, 参考上限, 参考下限, 参考范围, 提示, 创建时间, 修改时间]\n",
       "Index: []"
      ]
     },
     "execution_count": 12,
     "metadata": {},
     "output_type": "execute_result"
    }
   ],
   "source": [
    "suspected = exam_count[exam_count[exam_count >= 2].any(axis=1)].reset_index()\n",
    "suspected.head()"
   ]
  },
  {
   "cell_type": "code",
   "execution_count": null,
   "metadata": {
    "collapsed": true
   },
   "outputs": [],
   "source": [
    "suspected[['机构全代码', '住院唯一标识']].drop_duplicates().to_csv('./data/processed/duplicate_exams.csv', encoding='utf-8' )"
   ]
  },
  {
   "cell_type": "code",
   "execution_count": null,
   "metadata": {
    "collapsed": true,
    "scrolled": false
   },
   "outputs": [],
   "source": [
    "result = df_jcmx.pivot_table(index=['机构全代码', '住院唯一标识'], columns='检查/检验-项目名称' , values=['检查/检验-结果(数值)', '检查/检验-结果(定性)'])"
   ]
  },
  {
   "cell_type": "code",
   "execution_count": null,
   "metadata": {
    "collapsed": true
   },
   "outputs": [],
   "source": [
    "result.to_csv(output_path, encoding='utf8')"
   ]
  },
  {
   "cell_type": "code",
   "execution_count": null,
   "metadata": {
    "collapsed": true
   },
   "outputs": [],
   "source": []
  },
  {
   "cell_type": "code",
   "execution_count": null,
   "metadata": {
    "collapsed": true
   },
   "outputs": [],
   "source": []
  },
  {
   "cell_type": "code",
   "execution_count": null,
   "metadata": {
    "collapsed": true
   },
   "outputs": [],
   "source": []
  }
 ],
 "metadata": {
  "kernelspec": {
   "display_name": "Python 3",
   "language": "python",
   "name": "python3"
  },
  "language_info": {
   "codemirror_mode": {
    "name": "ipython",
    "version": 3
   },
   "file_extension": ".py",
   "mimetype": "text/x-python",
   "name": "python",
   "nbconvert_exporter": "python",
   "pygments_lexer": "ipython3",
   "version": "3.6.0"
  }
 },
 "nbformat": 4,
 "nbformat_minor": 2
}
